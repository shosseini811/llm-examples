{
  "cells": [
    {
      "cell_type": "markdown",
      "metadata": {
        "id": "view-in-github",
        "colab_type": "text"
      },
      "source": [
        "<a href=\"https://colab.research.google.com/github/shosseini811/llm-examples/blob/main/course/en/chapter6/section5.ipynb\" target=\"_parent\"><img src=\"https://colab.research.google.com/assets/colab-badge.svg\" alt=\"Open In Colab\"/></a>"
      ]
    },
    {
      "cell_type": "markdown",
      "metadata": {
        "id": "VLg1etnBMZFo"
      },
      "source": [
        "# Byte-Pair Encoding tokenization"
      ]
    },
    {
      "cell_type": "markdown",
      "metadata": {
        "id": "ARJ6sDcqMZFq"
      },
      "source": [
        "Install the Transformers, Datasets, and Evaluate libraries to run this notebook."
      ]
    },
    {
      "cell_type": "code",
      "execution_count": 7,
      "metadata": {
        "id": "gdZczBgjMZFr",
        "outputId": "2592c2ca-c04e-42f8-beef-8386658b84aa",
        "colab": {
          "base_uri": "https://localhost:8080/"
        }
      },
      "outputs": [
        {
          "output_type": "stream",
          "name": "stdout",
          "text": [
            "Requirement already satisfied: datasets in /usr/local/lib/python3.11/dist-packages (3.4.1)\n",
            "Requirement already satisfied: evaluate in /usr/local/lib/python3.11/dist-packages (0.4.3)\n",
            "Requirement already satisfied: transformers[sentencepiece] in /usr/local/lib/python3.11/dist-packages (4.48.3)\n",
            "Requirement already satisfied: filelock in /usr/local/lib/python3.11/dist-packages (from datasets) (3.17.0)\n",
            "Requirement already satisfied: numpy>=1.17 in /usr/local/lib/python3.11/dist-packages (from datasets) (2.0.2)\n",
            "Requirement already satisfied: pyarrow>=15.0.0 in /usr/local/lib/python3.11/dist-packages (from datasets) (18.1.0)\n",
            "Requirement already satisfied: dill<0.3.9,>=0.3.0 in /usr/local/lib/python3.11/dist-packages (from datasets) (0.3.8)\n",
            "Requirement already satisfied: pandas in /usr/local/lib/python3.11/dist-packages (from datasets) (2.2.2)\n",
            "Requirement already satisfied: requests>=2.32.2 in /usr/local/lib/python3.11/dist-packages (from datasets) (2.32.3)\n",
            "Requirement already satisfied: tqdm>=4.66.3 in /usr/local/lib/python3.11/dist-packages (from datasets) (4.67.1)\n",
            "Requirement already satisfied: xxhash in /usr/local/lib/python3.11/dist-packages (from datasets) (3.5.0)\n",
            "Requirement already satisfied: multiprocess<0.70.17 in /usr/local/lib/python3.11/dist-packages (from datasets) (0.70.16)\n",
            "Requirement already satisfied: fsspec<=2024.12.0,>=2023.1.0 in /usr/local/lib/python3.11/dist-packages (from fsspec[http]<=2024.12.0,>=2023.1.0->datasets) (2024.10.0)\n",
            "Requirement already satisfied: aiohttp in /usr/local/lib/python3.11/dist-packages (from datasets) (3.11.13)\n",
            "Requirement already satisfied: huggingface-hub>=0.24.0 in /usr/local/lib/python3.11/dist-packages (from datasets) (0.28.1)\n",
            "Requirement already satisfied: packaging in /usr/local/lib/python3.11/dist-packages (from datasets) (24.2)\n",
            "Requirement already satisfied: pyyaml>=5.1 in /usr/local/lib/python3.11/dist-packages (from datasets) (6.0.2)\n",
            "Requirement already satisfied: regex!=2019.12.17 in /usr/local/lib/python3.11/dist-packages (from transformers[sentencepiece]) (2024.11.6)\n",
            "Requirement already satisfied: tokenizers<0.22,>=0.21 in /usr/local/lib/python3.11/dist-packages (from transformers[sentencepiece]) (0.21.1)\n",
            "Requirement already satisfied: safetensors>=0.4.1 in /usr/local/lib/python3.11/dist-packages (from transformers[sentencepiece]) (0.5.3)\n",
            "Requirement already satisfied: sentencepiece!=0.1.92,>=0.1.91 in /usr/local/lib/python3.11/dist-packages (from transformers[sentencepiece]) (0.2.0)\n",
            "Requirement already satisfied: protobuf in /usr/local/lib/python3.11/dist-packages (from transformers[sentencepiece]) (4.25.6)\n",
            "Requirement already satisfied: aiohappyeyeballs>=2.3.0 in /usr/local/lib/python3.11/dist-packages (from aiohttp->datasets) (2.6.1)\n",
            "Requirement already satisfied: aiosignal>=1.1.2 in /usr/local/lib/python3.11/dist-packages (from aiohttp->datasets) (1.3.2)\n",
            "Requirement already satisfied: attrs>=17.3.0 in /usr/local/lib/python3.11/dist-packages (from aiohttp->datasets) (25.3.0)\n",
            "Requirement already satisfied: frozenlist>=1.1.1 in /usr/local/lib/python3.11/dist-packages (from aiohttp->datasets) (1.5.0)\n",
            "Requirement already satisfied: multidict<7.0,>=4.5 in /usr/local/lib/python3.11/dist-packages (from aiohttp->datasets) (6.1.0)\n",
            "Requirement already satisfied: propcache>=0.2.0 in /usr/local/lib/python3.11/dist-packages (from aiohttp->datasets) (0.3.0)\n",
            "Requirement already satisfied: yarl<2.0,>=1.17.0 in /usr/local/lib/python3.11/dist-packages (from aiohttp->datasets) (1.18.3)\n",
            "Requirement already satisfied: typing-extensions>=3.7.4.3 in /usr/local/lib/python3.11/dist-packages (from huggingface-hub>=0.24.0->datasets) (4.12.2)\n",
            "Requirement already satisfied: charset-normalizer<4,>=2 in /usr/local/lib/python3.11/dist-packages (from requests>=2.32.2->datasets) (3.4.1)\n",
            "Requirement already satisfied: idna<4,>=2.5 in /usr/local/lib/python3.11/dist-packages (from requests>=2.32.2->datasets) (3.10)\n",
            "Requirement already satisfied: urllib3<3,>=1.21.1 in /usr/local/lib/python3.11/dist-packages (from requests>=2.32.2->datasets) (2.3.0)\n",
            "Requirement already satisfied: certifi>=2017.4.17 in /usr/local/lib/python3.11/dist-packages (from requests>=2.32.2->datasets) (2025.1.31)\n",
            "Requirement already satisfied: python-dateutil>=2.8.2 in /usr/local/lib/python3.11/dist-packages (from pandas->datasets) (2.8.2)\n",
            "Requirement already satisfied: pytz>=2020.1 in /usr/local/lib/python3.11/dist-packages (from pandas->datasets) (2025.1)\n",
            "Requirement already satisfied: tzdata>=2022.7 in /usr/local/lib/python3.11/dist-packages (from pandas->datasets) (2025.1)\n",
            "Requirement already satisfied: six>=1.5 in /usr/local/lib/python3.11/dist-packages (from python-dateutil>=2.8.2->pandas->datasets) (1.17.0)\n"
          ]
        }
      ],
      "source": [
        "!pip install datasets evaluate transformers[sentencepiece]"
      ]
    },
    {
      "cell_type": "code",
      "execution_count": 8,
      "metadata": {
        "id": "t9kL0t3yMZFr"
      },
      "outputs": [],
      "source": [
        "corpus = [\n",
        "    \"This is the Hugging Face Course.\",\n",
        "    \"This chapter is about tokenization.\",\n",
        "    \"This section shows several tokenizer algorithms.\",\n",
        "    \"Hopefully, you will be able to understand how they are trained and generate tokens.\",\n",
        "]"
      ]
    },
    {
      "cell_type": "code",
      "execution_count": 9,
      "metadata": {
        "id": "crOfeGBhMZFr"
      },
      "outputs": [],
      "source": [
        "from transformers import AutoTokenizer\n",
        "\n",
        "tokenizer = AutoTokenizer.from_pretrained(\"gpt2\")"
      ]
    },
    {
      "cell_type": "code",
      "source": [
        "tokenizer.backend_tokenizer.pre_tokenizer.pre_tokenize_str('Sohail Hosseini')"
      ],
      "metadata": {
        "id": "s0OKXbvjwR_Y",
        "outputId": "dbfa39b6-8c50-4e76-9d9a-0044293bf6ea",
        "colab": {
          "base_uri": "https://localhost:8080/"
        }
      },
      "execution_count": 34,
      "outputs": [
        {
          "output_type": "execute_result",
          "data": {
            "text/plain": [
              "[('Sohail', (0, 6)), ('ĠHosseini', (6, 15))]"
            ]
          },
          "metadata": {},
          "execution_count": 34
        }
      ]
    },
    {
      "cell_type": "code",
      "execution_count": 10,
      "metadata": {
        "id": "k8-oLZ3_MZFs",
        "outputId": "0b54e221-2423-4441-aafb-b1d183735c27",
        "colab": {
          "base_uri": "https://localhost:8080/"
        }
      },
      "outputs": [
        {
          "output_type": "stream",
          "name": "stdout",
          "text": [
            "defaultdict(<class 'int'>, {'This': 3, 'Ġis': 2, 'Ġthe': 1, 'ĠHugging': 1, 'ĠFace': 1, 'ĠCourse': 1, '.': 4, 'Ġchapter': 1, 'Ġabout': 1, 'Ġtokenization': 1, 'Ġsection': 1, 'Ġshows': 1, 'Ġseveral': 1, 'Ġtokenizer': 1, 'Ġalgorithms': 1, 'Hopefully': 1, ',': 1, 'Ġyou': 1, 'Ġwill': 1, 'Ġbe': 1, 'Ġable': 1, 'Ġto': 1, 'Ġunderstand': 1, 'Ġhow': 1, 'Ġthey': 1, 'Ġare': 1, 'Ġtrained': 1, 'Ġand': 1, 'Ġgenerate': 1, 'Ġtokens': 1})\n"
          ]
        }
      ],
      "source": [
        "from collections import defaultdict\n",
        "\n",
        "word_freqs = defaultdict(int)\n",
        "\n",
        "for text in corpus:\n",
        "    words_with_offsets = tokenizer.backend_tokenizer.pre_tokenizer.pre_tokenize_str(text)\n",
        "    new_words = [word for word, offset in words_with_offsets]\n",
        "    for word in new_words:\n",
        "        word_freqs[word] += 1\n",
        "\n",
        "print(word_freqs)"
      ]
    },
    {
      "cell_type": "code",
      "source": [
        "words_with_offsets"
      ],
      "metadata": {
        "id": "ARPoDEtmVgsy",
        "outputId": "d7009404-034a-4055-e372-756d3cc9f88c",
        "colab": {
          "base_uri": "https://localhost:8080/"
        }
      },
      "execution_count": 28,
      "outputs": [
        {
          "output_type": "execute_result",
          "data": {
            "text/plain": [
              "[('Hopefully', (0, 9)),\n",
              " (',', (9, 10)),\n",
              " ('Ġyou', (10, 14)),\n",
              " ('Ġwill', (14, 19)),\n",
              " ('Ġbe', (19, 22)),\n",
              " ('Ġable', (22, 27)),\n",
              " ('Ġto', (27, 30)),\n",
              " ('Ġunderstand', (30, 41)),\n",
              " ('Ġhow', (41, 45)),\n",
              " ('Ġthey', (45, 50)),\n",
              " ('Ġare', (50, 54)),\n",
              " ('Ġtrained', (54, 62)),\n",
              " ('Ġand', (62, 66)),\n",
              " ('Ġgenerate', (66, 75)),\n",
              " ('Ġtokens', (75, 82)),\n",
              " ('.', (82, 83))]"
            ]
          },
          "metadata": {},
          "execution_count": 28
        }
      ]
    },
    {
      "cell_type": "code",
      "source": [
        "new_words"
      ],
      "metadata": {
        "id": "GfSsHXjKVkqI",
        "outputId": "3a89f9da-a8a1-46e7-c45a-652c31e6b5b1",
        "colab": {
          "base_uri": "https://localhost:8080/"
        }
      },
      "execution_count": 12,
      "outputs": [
        {
          "output_type": "execute_result",
          "data": {
            "text/plain": [
              "['Hopefully',\n",
              " ',',\n",
              " 'Ġyou',\n",
              " 'Ġwill',\n",
              " 'Ġbe',\n",
              " 'Ġable',\n",
              " 'Ġto',\n",
              " 'Ġunderstand',\n",
              " 'Ġhow',\n",
              " 'Ġthey',\n",
              " 'Ġare',\n",
              " 'Ġtrained',\n",
              " 'Ġand',\n",
              " 'Ġgenerate',\n",
              " 'Ġtokens',\n",
              " '.']"
            ]
          },
          "metadata": {},
          "execution_count": 12
        }
      ]
    },
    {
      "cell_type": "code",
      "source": [
        "word_freqs"
      ],
      "metadata": {
        "id": "q_BMq8xEsAxl",
        "outputId": "1d70c6fb-5928-4610-d416-948a048fc6a8",
        "colab": {
          "base_uri": "https://localhost:8080/"
        }
      },
      "execution_count": 29,
      "outputs": [
        {
          "output_type": "execute_result",
          "data": {
            "text/plain": [
              "defaultdict(int,\n",
              "            {'This': 3,\n",
              "             'Ġis': 2,\n",
              "             'Ġthe': 1,\n",
              "             'ĠHugging': 1,\n",
              "             'ĠFace': 1,\n",
              "             'ĠCourse': 1,\n",
              "             '.': 4,\n",
              "             'Ġchapter': 1,\n",
              "             'Ġabout': 1,\n",
              "             'Ġtokenization': 1,\n",
              "             'Ġsection': 1,\n",
              "             'Ġshows': 1,\n",
              "             'Ġseveral': 1,\n",
              "             'Ġtokenizer': 1,\n",
              "             'Ġalgorithms': 1,\n",
              "             'Hopefully': 1,\n",
              "             ',': 1,\n",
              "             'Ġyou': 1,\n",
              "             'Ġwill': 1,\n",
              "             'Ġbe': 1,\n",
              "             'Ġable': 1,\n",
              "             'Ġto': 1,\n",
              "             'Ġunderstand': 1,\n",
              "             'Ġhow': 1,\n",
              "             'Ġthey': 1,\n",
              "             'Ġare': 1,\n",
              "             'Ġtrained': 1,\n",
              "             'Ġand': 1,\n",
              "             'Ġgenerate': 1,\n",
              "             'Ġtokens': 1})"
            ]
          },
          "metadata": {},
          "execution_count": 29
        }
      ]
    },
    {
      "cell_type": "code",
      "execution_count": 13,
      "metadata": {
        "id": "z_FJbnjmMZFs",
        "outputId": "12c11c18-d6e1-42a2-c209-2260b25ea89d",
        "colab": {
          "base_uri": "https://localhost:8080/"
        }
      },
      "outputs": [
        {
          "output_type": "stream",
          "name": "stdout",
          "text": [
            "[',', '.', 'C', 'F', 'H', 'T', 'a', 'b', 'c', 'd', 'e', 'f', 'g', 'h', 'i', 'k', 'l', 'm', 'n', 'o', 'p', 'r', 's', 't', 'u', 'v', 'w', 'y', 'z', 'Ġ']\n"
          ]
        }
      ],
      "source": [
        "alphabet = []\n",
        "\n",
        "for word in word_freqs.keys():\n",
        "    for letter in word:\n",
        "        if letter not in alphabet:\n",
        "            alphabet.append(letter)\n",
        "alphabet.sort()\n",
        "\n",
        "print(alphabet)"
      ]
    },
    {
      "cell_type": "code",
      "execution_count": 14,
      "metadata": {
        "id": "aakwF6R9MZFs"
      },
      "outputs": [],
      "source": [
        "vocab = [\"<|endoftext|>\"] + alphabet.copy()"
      ]
    },
    {
      "cell_type": "code",
      "source": [
        "vocab"
      ],
      "metadata": {
        "id": "PNMRHcVGshYZ",
        "outputId": "4711815a-0c32-459d-d8c3-19ebff71ee9e",
        "colab": {
          "base_uri": "https://localhost:8080/"
        }
      },
      "execution_count": 30,
      "outputs": [
        {
          "output_type": "execute_result",
          "data": {
            "text/plain": [
              "['<|endoftext|>',\n",
              " ',',\n",
              " '.',\n",
              " 'C',\n",
              " 'F',\n",
              " 'H',\n",
              " 'T',\n",
              " 'a',\n",
              " 'b',\n",
              " 'c',\n",
              " 'd',\n",
              " 'e',\n",
              " 'f',\n",
              " 'g',\n",
              " 'h',\n",
              " 'i',\n",
              " 'k',\n",
              " 'l',\n",
              " 'm',\n",
              " 'n',\n",
              " 'o',\n",
              " 'p',\n",
              " 'r',\n",
              " 's',\n",
              " 't',\n",
              " 'u',\n",
              " 'v',\n",
              " 'w',\n",
              " 'y',\n",
              " 'z',\n",
              " 'Ġ',\n",
              " 'Ġt',\n",
              " 'is',\n",
              " 'er',\n",
              " 'Ġa',\n",
              " 'Ġto',\n",
              " 'en',\n",
              " 'Th',\n",
              " 'This',\n",
              " 'ou',\n",
              " 'se',\n",
              " 'Ġtok',\n",
              " 'Ġtoken',\n",
              " 'nd',\n",
              " 'Ġis',\n",
              " 'Ġth',\n",
              " 'Ġthe',\n",
              " 'in',\n",
              " 'Ġab',\n",
              " 'Ġtokeni']"
            ]
          },
          "metadata": {},
          "execution_count": 30
        }
      ]
    },
    {
      "cell_type": "code",
      "execution_count": 31,
      "metadata": {
        "id": "Oy4qO1WPMZFs",
        "outputId": "5af73cb7-9661-4830-9d65-08ea6041a56e",
        "colab": {
          "base_uri": "https://localhost:8080/"
        }
      },
      "outputs": [
        {
          "output_type": "execute_result",
          "data": {
            "text/plain": [
              "{'This': ['T', 'h', 'i', 's'],\n",
              " 'Ġis': ['Ġ', 'i', 's'],\n",
              " 'Ġthe': ['Ġ', 't', 'h', 'e'],\n",
              " 'ĠHugging': ['Ġ', 'H', 'u', 'g', 'g', 'i', 'n', 'g'],\n",
              " 'ĠFace': ['Ġ', 'F', 'a', 'c', 'e'],\n",
              " 'ĠCourse': ['Ġ', 'C', 'o', 'u', 'r', 's', 'e'],\n",
              " '.': ['.'],\n",
              " 'Ġchapter': ['Ġ', 'c', 'h', 'a', 'p', 't', 'e', 'r'],\n",
              " 'Ġabout': ['Ġ', 'a', 'b', 'o', 'u', 't'],\n",
              " 'Ġtokenization': ['Ġ',\n",
              "  't',\n",
              "  'o',\n",
              "  'k',\n",
              "  'e',\n",
              "  'n',\n",
              "  'i',\n",
              "  'z',\n",
              "  'a',\n",
              "  't',\n",
              "  'i',\n",
              "  'o',\n",
              "  'n'],\n",
              " 'Ġsection': ['Ġ', 's', 'e', 'c', 't', 'i', 'o', 'n'],\n",
              " 'Ġshows': ['Ġ', 's', 'h', 'o', 'w', 's'],\n",
              " 'Ġseveral': ['Ġ', 's', 'e', 'v', 'e', 'r', 'a', 'l'],\n",
              " 'Ġtokenizer': ['Ġ', 't', 'o', 'k', 'e', 'n', 'i', 'z', 'e', 'r'],\n",
              " 'Ġalgorithms': ['Ġ', 'a', 'l', 'g', 'o', 'r', 'i', 't', 'h', 'm', 's'],\n",
              " 'Hopefully': ['H', 'o', 'p', 'e', 'f', 'u', 'l', 'l', 'y'],\n",
              " ',': [','],\n",
              " 'Ġyou': ['Ġ', 'y', 'o', 'u'],\n",
              " 'Ġwill': ['Ġ', 'w', 'i', 'l', 'l'],\n",
              " 'Ġbe': ['Ġ', 'b', 'e'],\n",
              " 'Ġable': ['Ġ', 'a', 'b', 'l', 'e'],\n",
              " 'Ġto': ['Ġ', 't', 'o'],\n",
              " 'Ġunderstand': ['Ġ', 'u', 'n', 'd', 'e', 'r', 's', 't', 'a', 'n', 'd'],\n",
              " 'Ġhow': ['Ġ', 'h', 'o', 'w'],\n",
              " 'Ġthey': ['Ġ', 't', 'h', 'e', 'y'],\n",
              " 'Ġare': ['Ġ', 'a', 'r', 'e'],\n",
              " 'Ġtrained': ['Ġ', 't', 'r', 'a', 'i', 'n', 'e', 'd'],\n",
              " 'Ġand': ['Ġ', 'a', 'n', 'd'],\n",
              " 'Ġgenerate': ['Ġ', 'g', 'e', 'n', 'e', 'r', 'a', 't', 'e'],\n",
              " 'Ġtokens': ['Ġ', 't', 'o', 'k', 'e', 'n', 's']}"
            ]
          },
          "metadata": {},
          "execution_count": 31
        }
      ],
      "source": [
        "splits = {word: [c for c in word] for word in word_freqs.keys()}\n",
        "splits"
      ]
    },
    {
      "cell_type": "code",
      "execution_count": 32,
      "metadata": {
        "id": "XvOHCtNQMZFt"
      },
      "outputs": [],
      "source": [
        "def compute_pair_freqs(splits):\n",
        "    pair_freqs = defaultdict(int)\n",
        "    for word, freq in word_freqs.items():\n",
        "        split = splits[word]\n",
        "        if len(split) == 1:\n",
        "            continue\n",
        "        for i in range(len(split) - 1):\n",
        "            pair = (split[i], split[i + 1])\n",
        "            pair_freqs[pair] += freq\n",
        "    return pair_freqs"
      ]
    },
    {
      "cell_type": "code",
      "execution_count": 33,
      "metadata": {
        "id": "YKtKIVhyMZFt",
        "outputId": "b6615cc3-a309-46e7-cfc7-f428736b5db3",
        "colab": {
          "base_uri": "https://localhost:8080/"
        }
      },
      "outputs": [
        {
          "output_type": "stream",
          "name": "stdout",
          "text": [
            "('T', 'h'): 3\n",
            "('h', 'i'): 3\n",
            "('i', 's'): 5\n",
            "('Ġ', 'i'): 2\n",
            "('Ġ', 't'): 7\n",
            "('t', 'h'): 3\n"
          ]
        }
      ],
      "source": [
        "pair_freqs = compute_pair_freqs(splits)\n",
        "\n",
        "for i, key in enumerate(pair_freqs.keys()):\n",
        "    print(f\"{key}: {pair_freqs[key]}\")\n",
        "    if i >= 5:\n",
        "        break"
      ]
    },
    {
      "cell_type": "code",
      "source": [
        "# Sort pair_freqs by values (frequencies) in descending order\n",
        "sorted_pair_freqs = dict(sorted(pair_freqs.items(), key=lambda item: item[1], reverse=True))\n",
        "sorted_pair_freqs"
      ],
      "metadata": {
        "id": "57SNNCgE6Ti0",
        "outputId": "eb5fde9b-6b1a-4fff-f9fb-30b77d0cc98f",
        "colab": {
          "base_uri": "https://localhost:8080/"
        }
      },
      "execution_count": 38,
      "outputs": [
        {
          "output_type": "execute_result",
          "data": {
            "text/plain": [
              "{('Ġ', 't'): 7,\n",
              " ('i', 's'): 5,\n",
              " ('e', 'r'): 5,\n",
              " ('Ġ', 'a'): 5,\n",
              " ('t', 'o'): 4,\n",
              " ('e', 'n'): 4,\n",
              " ('T', 'h'): 3,\n",
              " ('h', 'i'): 3,\n",
              " ('t', 'h'): 3,\n",
              " ('o', 'u'): 3,\n",
              " ('s', 'e'): 3,\n",
              " ('o', 'k'): 3,\n",
              " ('k', 'e'): 3,\n",
              " ('Ġ', 's'): 3,\n",
              " ('r', 'a'): 3,\n",
              " ('n', 'd'): 3,\n",
              " ('Ġ', 'i'): 2,\n",
              " ('h', 'e'): 2,\n",
              " ('i', 'n'): 2,\n",
              " ('r', 's'): 2,\n",
              " ('t', 'e'): 2,\n",
              " ('a', 'b'): 2,\n",
              " ('n', 'i'): 2,\n",
              " ('i', 'z'): 2,\n",
              " ('a', 't'): 2,\n",
              " ('t', 'i'): 2,\n",
              " ('i', 'o'): 2,\n",
              " ('o', 'n'): 2,\n",
              " ('h', 'o'): 2,\n",
              " ('o', 'w'): 2,\n",
              " ('a', 'l'): 2,\n",
              " ('l', 'l'): 2,\n",
              " ('a', 'n'): 2,\n",
              " ('n', 'e'): 2,\n",
              " ('Ġ', 'H'): 1,\n",
              " ('H', 'u'): 1,\n",
              " ('u', 'g'): 1,\n",
              " ('g', 'g'): 1,\n",
              " ('g', 'i'): 1,\n",
              " ('n', 'g'): 1,\n",
              " ('Ġ', 'F'): 1,\n",
              " ('F', 'a'): 1,\n",
              " ('a', 'c'): 1,\n",
              " ('c', 'e'): 1,\n",
              " ('Ġ', 'C'): 1,\n",
              " ('C', 'o'): 1,\n",
              " ('u', 'r'): 1,\n",
              " ('Ġ', 'c'): 1,\n",
              " ('c', 'h'): 1,\n",
              " ('h', 'a'): 1,\n",
              " ('a', 'p'): 1,\n",
              " ('p', 't'): 1,\n",
              " ('b', 'o'): 1,\n",
              " ('u', 't'): 1,\n",
              " ('z', 'a'): 1,\n",
              " ('e', 'c'): 1,\n",
              " ('c', 't'): 1,\n",
              " ('s', 'h'): 1,\n",
              " ('w', 's'): 1,\n",
              " ('e', 'v'): 1,\n",
              " ('v', 'e'): 1,\n",
              " ('z', 'e'): 1,\n",
              " ('l', 'g'): 1,\n",
              " ('g', 'o'): 1,\n",
              " ('o', 'r'): 1,\n",
              " ('r', 'i'): 1,\n",
              " ('i', 't'): 1,\n",
              " ('h', 'm'): 1,\n",
              " ('m', 's'): 1,\n",
              " ('H', 'o'): 1,\n",
              " ('o', 'p'): 1,\n",
              " ('p', 'e'): 1,\n",
              " ('e', 'f'): 1,\n",
              " ('f', 'u'): 1,\n",
              " ('u', 'l'): 1,\n",
              " ('l', 'y'): 1,\n",
              " ('Ġ', 'y'): 1,\n",
              " ('y', 'o'): 1,\n",
              " ('Ġ', 'w'): 1,\n",
              " ('w', 'i'): 1,\n",
              " ('i', 'l'): 1,\n",
              " ('Ġ', 'b'): 1,\n",
              " ('b', 'e'): 1,\n",
              " ('b', 'l'): 1,\n",
              " ('l', 'e'): 1,\n",
              " ('Ġ', 'u'): 1,\n",
              " ('u', 'n'): 1,\n",
              " ('d', 'e'): 1,\n",
              " ('s', 't'): 1,\n",
              " ('t', 'a'): 1,\n",
              " ('Ġ', 'h'): 1,\n",
              " ('e', 'y'): 1,\n",
              " ('a', 'r'): 1,\n",
              " ('r', 'e'): 1,\n",
              " ('t', 'r'): 1,\n",
              " ('a', 'i'): 1,\n",
              " ('e', 'd'): 1,\n",
              " ('Ġ', 'g'): 1,\n",
              " ('g', 'e'): 1,\n",
              " ('n', 's'): 1}"
            ]
          },
          "metadata": {},
          "execution_count": 38
        }
      ]
    },
    {
      "cell_type": "code",
      "execution_count": 18,
      "metadata": {
        "id": "fqULQbq-MZFt",
        "outputId": "11836682-4fe5-4d4e-9669-d078045afb9c",
        "colab": {
          "base_uri": "https://localhost:8080/"
        }
      },
      "outputs": [
        {
          "output_type": "stream",
          "name": "stdout",
          "text": [
            "('Ġ', 't') 7\n"
          ]
        }
      ],
      "source": [
        "best_pair = \"\"\n",
        "max_freq = None\n",
        "\n",
        "for pair, freq in pair_freqs.items():\n",
        "    if max_freq is None or max_freq < freq:\n",
        "        best_pair = pair\n",
        "        max_freq = freq\n",
        "\n",
        "print(best_pair, max_freq)"
      ]
    },
    {
      "cell_type": "code",
      "execution_count": 19,
      "metadata": {
        "id": "7Xp84GcbMZFt"
      },
      "outputs": [],
      "source": [
        "merges = {(\"Ġ\", \"t\"): \"Ġt\"}\n",
        "vocab.append(\"Ġt\")"
      ]
    },
    {
      "cell_type": "code",
      "execution_count": 20,
      "metadata": {
        "id": "2rzUBDTLMZFt"
      },
      "outputs": [],
      "source": [
        "def merge_pair(a, b, splits):\n",
        "    for word in word_freqs:\n",
        "        split = splits[word]\n",
        "        if len(split) == 1:\n",
        "            continue\n",
        "\n",
        "        i = 0\n",
        "        while i < len(split) - 1:\n",
        "            if split[i] == a and split[i + 1] == b:\n",
        "                split = split[:i] + [a + b] + split[i + 2 :]\n",
        "            else:\n",
        "                i += 1\n",
        "        splits[word] = split\n",
        "    return splits"
      ]
    },
    {
      "cell_type": "code",
      "source": [
        "splits"
      ],
      "metadata": {
        "id": "dLF_rC1d82rf",
        "outputId": "6b92515a-89cc-46a7-e9d9-414a80960ec1",
        "colab": {
          "base_uri": "https://localhost:8080/"
        }
      },
      "execution_count": 37,
      "outputs": [
        {
          "output_type": "execute_result",
          "data": {
            "text/plain": [
              "{'This': ['T', 'h', 'i', 's'],\n",
              " 'Ġis': ['Ġ', 'i', 's'],\n",
              " 'Ġthe': ['Ġ', 't', 'h', 'e'],\n",
              " 'ĠHugging': ['Ġ', 'H', 'u', 'g', 'g', 'i', 'n', 'g'],\n",
              " 'ĠFace': ['Ġ', 'F', 'a', 'c', 'e'],\n",
              " 'ĠCourse': ['Ġ', 'C', 'o', 'u', 'r', 's', 'e'],\n",
              " '.': ['.'],\n",
              " 'Ġchapter': ['Ġ', 'c', 'h', 'a', 'p', 't', 'e', 'r'],\n",
              " 'Ġabout': ['Ġ', 'a', 'b', 'o', 'u', 't'],\n",
              " 'Ġtokenization': ['Ġ',\n",
              "  't',\n",
              "  'o',\n",
              "  'k',\n",
              "  'e',\n",
              "  'n',\n",
              "  'i',\n",
              "  'z',\n",
              "  'a',\n",
              "  't',\n",
              "  'i',\n",
              "  'o',\n",
              "  'n'],\n",
              " 'Ġsection': ['Ġ', 's', 'e', 'c', 't', 'i', 'o', 'n'],\n",
              " 'Ġshows': ['Ġ', 's', 'h', 'o', 'w', 's'],\n",
              " 'Ġseveral': ['Ġ', 's', 'e', 'v', 'e', 'r', 'a', 'l'],\n",
              " 'Ġtokenizer': ['Ġ', 't', 'o', 'k', 'e', 'n', 'i', 'z', 'e', 'r'],\n",
              " 'Ġalgorithms': ['Ġ', 'a', 'l', 'g', 'o', 'r', 'i', 't', 'h', 'm', 's'],\n",
              " 'Hopefully': ['H', 'o', 'p', 'e', 'f', 'u', 'l', 'l', 'y'],\n",
              " ',': [','],\n",
              " 'Ġyou': ['Ġ', 'y', 'o', 'u'],\n",
              " 'Ġwill': ['Ġ', 'w', 'i', 'l', 'l'],\n",
              " 'Ġbe': ['Ġ', 'b', 'e'],\n",
              " 'Ġable': ['Ġ', 'a', 'b', 'l', 'e'],\n",
              " 'Ġto': ['Ġ', 't', 'o'],\n",
              " 'Ġunderstand': ['Ġ', 'u', 'n', 'd', 'e', 'r', 's', 't', 'a', 'n', 'd'],\n",
              " 'Ġhow': ['Ġ', 'h', 'o', 'w'],\n",
              " 'Ġthey': ['Ġ', 't', 'h', 'e', 'y'],\n",
              " 'Ġare': ['Ġ', 'a', 'r', 'e'],\n",
              " 'Ġtrained': ['Ġ', 't', 'r', 'a', 'i', 'n', 'e', 'd'],\n",
              " 'Ġand': ['Ġ', 'a', 'n', 'd'],\n",
              " 'Ġgenerate': ['Ġ', 'g', 'e', 'n', 'e', 'r', 'a', 't', 'e'],\n",
              " 'Ġtokens': ['Ġ', 't', 'o', 'k', 'e', 'n', 's']}"
            ]
          },
          "metadata": {},
          "execution_count": 37
        }
      ]
    },
    {
      "cell_type": "code",
      "execution_count": 21,
      "metadata": {
        "id": "aPHlBDZoMZFt",
        "outputId": "681ec3df-1681-4950-e959-53ced0149ea7",
        "colab": {
          "base_uri": "https://localhost:8080/"
        }
      },
      "outputs": [
        {
          "output_type": "stream",
          "name": "stdout",
          "text": [
            "['Ġt', 'r', 'a', 'i', 'n', 'e', 'd']\n"
          ]
        }
      ],
      "source": [
        "splits = merge_pair(\"Ġ\", \"t\", splits)\n",
        "print(splits[\"Ġtrained\"])"
      ]
    },
    {
      "cell_type": "code",
      "execution_count": 22,
      "metadata": {
        "id": "A2sKuxkdMZFt"
      },
      "outputs": [],
      "source": [
        "vocab_size = 50\n",
        "\n",
        "while len(vocab) < vocab_size:\n",
        "    pair_freqs = compute_pair_freqs(splits)\n",
        "    best_pair = \"\"\n",
        "    max_freq = None\n",
        "    for pair, freq in pair_freqs.items():\n",
        "        if max_freq is None or max_freq < freq:\n",
        "            best_pair = pair\n",
        "            max_freq = freq\n",
        "    splits = merge_pair(*best_pair, splits)\n",
        "    merges[best_pair] = best_pair[0] + best_pair[1]\n",
        "    vocab.append(best_pair[0] + best_pair[1])"
      ]
    },
    {
      "cell_type": "code",
      "execution_count": 23,
      "metadata": {
        "id": "0GMUVqVhMZFt",
        "outputId": "c7c1094d-0096-46bf-9dd5-d0d1082b56cf",
        "colab": {
          "base_uri": "https://localhost:8080/"
        }
      },
      "outputs": [
        {
          "output_type": "stream",
          "name": "stdout",
          "text": [
            "{('Ġ', 't'): 'Ġt', ('i', 's'): 'is', ('e', 'r'): 'er', ('Ġ', 'a'): 'Ġa', ('Ġt', 'o'): 'Ġto', ('e', 'n'): 'en', ('T', 'h'): 'Th', ('Th', 'is'): 'This', ('o', 'u'): 'ou', ('s', 'e'): 'se', ('Ġto', 'k'): 'Ġtok', ('Ġtok', 'en'): 'Ġtoken', ('n', 'd'): 'nd', ('Ġ', 'is'): 'Ġis', ('Ġt', 'h'): 'Ġth', ('Ġth', 'e'): 'Ġthe', ('i', 'n'): 'in', ('Ġa', 'b'): 'Ġab', ('Ġtoken', 'i'): 'Ġtokeni'}\n"
          ]
        }
      ],
      "source": [
        "print(merges)"
      ]
    },
    {
      "cell_type": "code",
      "execution_count": 24,
      "metadata": {
        "id": "aIkAhynwMZFu",
        "outputId": "aeb65eee-9725-41e4-d39e-ece639bc8f7a",
        "colab": {
          "base_uri": "https://localhost:8080/"
        }
      },
      "outputs": [
        {
          "output_type": "stream",
          "name": "stdout",
          "text": [
            "['<|endoftext|>', ',', '.', 'C', 'F', 'H', 'T', 'a', 'b', 'c', 'd', 'e', 'f', 'g', 'h', 'i', 'k', 'l', 'm', 'n', 'o', 'p', 'r', 's', 't', 'u', 'v', 'w', 'y', 'z', 'Ġ', 'Ġt', 'is', 'er', 'Ġa', 'Ġto', 'en', 'Th', 'This', 'ou', 'se', 'Ġtok', 'Ġtoken', 'nd', 'Ġis', 'Ġth', 'Ġthe', 'in', 'Ġab', 'Ġtokeni']\n"
          ]
        }
      ],
      "source": [
        "print(vocab)"
      ]
    },
    {
      "cell_type": "code",
      "execution_count": 25,
      "metadata": {
        "id": "1oGxRSjUMZFu"
      },
      "outputs": [],
      "source": [
        "def tokenize(text):\n",
        "    pre_tokenize_result = tokenizer._tokenizer.pre_tokenizer.pre_tokenize_str(text)\n",
        "    pre_tokenized_text = [word for word, offset in pre_tokenize_result]\n",
        "    splits = [[l for l in word] for word in pre_tokenized_text]\n",
        "    for pair, merge in merges.items():\n",
        "        for idx, split in enumerate(splits):\n",
        "            i = 0\n",
        "            while i < len(split) - 1:\n",
        "                if split[i] == pair[0] and split[i + 1] == pair[1]:\n",
        "                    split = split[:i] + [merge] + split[i + 2 :]\n",
        "                else:\n",
        "                    i += 1\n",
        "            splits[idx] = split\n",
        "\n",
        "    return sum(splits, [])"
      ]
    },
    {
      "cell_type": "code",
      "execution_count": 26,
      "metadata": {
        "id": "SIv9-3kLMZFu",
        "outputId": "3e9ce4fd-03be-4618-f361-5c1318524fc2",
        "colab": {
          "base_uri": "https://localhost:8080/"
        }
      },
      "outputs": [
        {
          "output_type": "execute_result",
          "data": {
            "text/plain": [
              "['This', 'Ġis', 'Ġ', 'n', 'o', 't', 'Ġa', 'Ġtoken', '.']"
            ]
          },
          "metadata": {},
          "execution_count": 26
        }
      ],
      "source": [
        "tokenize(\"This is not a token.\")"
      ]
    }
  ],
  "metadata": {
    "colab": {
      "name": "Byte-Pair Encoding tokenization",
      "provenance": [],
      "include_colab_link": true
    },
    "language_info": {
      "name": "python"
    },
    "kernelspec": {
      "name": "python3",
      "display_name": "Python 3"
    }
  },
  "nbformat": 4,
  "nbformat_minor": 0
}